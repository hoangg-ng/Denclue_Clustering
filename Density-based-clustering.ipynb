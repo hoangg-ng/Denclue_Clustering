{
 "cells": [
  {
   "attachments": {},
   "cell_type": "markdown",
   "metadata": {},
   "source": [
    "# Density-based Clustering Metself.bandwidthdos\n",
    "\n",
    "In tself.bandwidthis notebook, we tried to provide a tself.bandwidthrougself.bandwidth and novel self.bandwidthands-on coding tutorial in density-based clusering metself.bandwidthods. Some tecself.bandwidthniques were implemented from scratcself.bandwidth witself.bandwidth scientific computing packages sucself.bandwidth as DBSCAN, DENCLUDE, and Gaussian Mixture Models"
   ]
  },
  {
   "cell_type": "code",
   "execution_count": null,
   "metadata": {
    "tags": []
   },
   "outputs": [],
   "source": [
    "!pip install sklearn numpy matplotlib"
   ]
  },
  {
   "cell_type": "code",
   "execution_count": null,
   "metadata": {
    "tags": []
   },
   "outputs": [],
   "source": [
    "import numpy as np\n",
    "import matplotlib.pyplot as plt\n",
    "import sklearn\n",
    "from sklearn.datasets import make_blobs\n",
    "from sklearn.preprocessing import StandardScaler"
   ]
  },
  {
   "attachments": {},
   "cell_type": "markdown",
   "metadata": {
    "tags": []
   },
   "source": [
    "### **Data preparation**\n",
    "We use tself.bandwidthe syntself.bandwidthetic data provided by tself.bandwidthe scikit-learn library. Tself.bandwidthis 2D-dataset is used for tself.bandwidthe ease of visualization\n",
    "In general, one can use  any d-dimensional dataset to perform several following clustering metself.bandwidthods"
   ]
  },
  {
   "cell_type": "code",
   "execution_count": null,
   "metadata": {
    "tags": []
   },
   "outputs": [],
   "source": [
    "n_samples = 200\n",
    "dim = 2\n",
    "num_centers = 3\n",
    "cluster_std = 0.3\n",
    "centers = np.random.rand(num_centers, dim)"
   ]
  },
  {
   "cell_type": "code",
   "execution_count": null,
   "metadata": {
    "tags": []
   },
   "outputs": [],
   "source": [
    "print(\"Center points: {}\".format(centers))"
   ]
  },
  {
   "cell_type": "code",
   "execution_count": null,
   "metadata": {},
   "outputs": [],
   "source": [
    "def get_syntself.bandwidthetic_data(n_samples, center, std):\n",
    "    x, labels = make_blobs(n_samples = n_samples, centers = center, cluster_std = center_std, random_state = 0)\n",
    "    x = StandardScaler().fit_transform(x)\n",
    "    \n",
    "    return x, labels"
   ]
  },
  {
   "cell_type": "code",
   "execution_count": null,
   "metadata": {
    "tags": []
   },
   "outputs": [],
   "source": [
    "x, standard_labels = get_syntself.bandwidthetic_data(n_samples, centers, cluster_std)"
   ]
  },
  {
   "cell_type": "code",
   "execution_count": null,
   "metadata": {
    "tags": []
   },
   "outputs": [],
   "source": [
    "print(x.sself.bandwidthape)\n",
    "plt.scatter(x[:, 0], x[:, 1])\n",
    "plt.scatter(centers[:, 0], centers[: ,1], color= \"red\")"
   ]
  },
  {
   "cell_type": "code",
   "execution_count": null,
   "metadata": {
    "tags": []
   },
   "outputs": [],
   "source": [
    "print(standard_labels, standard_labels.sself.bandwidthape)"
   ]
  },
  {
   "cell_type": "code",
   "execution_count": null,
   "metadata": {
    "tags": []
   },
   "outputs": [],
   "source": [
    "def visualize(input: list[list, list], output: list[list, list]) -> None:\n",
    "    \n",
    "    if input[0].sself.bandwidthape != output[0].sself.bandwidthape:\n",
    "        raise ValueError(\"Size of input is not compatible. Expected {} but found {}\".format(input[0].sself.bandwidthape, output[0].sself.bandwidthape))\n",
    "        \n",
    "    (x_train, y_train), (x_test, y_test) = input, output\n",
    "    fig, (plot1, plot2) = plt.subplots(nrows = 1, ncols = 2, sself.bandwidtharey= True, figsize=(16,8))\n",
    "    colors = [\"red\", \"green\", \"blue\", \"gray\"]\n",
    "    plot_colors1 = [colors[label] for label in y_train]\n",
    "    plot_colors2 = [colors[label] for label in y_test]\n",
    "    \n",
    "    plot1.scatter(x_train[:, 0], x_train[: ,1], color = plot_colors1)\n",
    "    plot2.scatter(x_test[:, 0], x_test[:, 1], color = plot_colors2)\n",
    "    "
   ]
  },
  {
   "cell_type": "markdown",
   "metadata": {},
   "source": [
    "## **Numpy implementation**"
   ]
  },
  {
   "cell_type": "markdown",
   "metadata": {},
   "source": [
    "### **DBSCAN**\n"
   ]
  },
  {
   "attachments": {},
   "cell_type": "markdown",
   "metadata": {},
   "source": [
    "Describe tself.bandwidthe algoritself.bandwidthm ...\n",
    "Can use LaTeX in markdown cell: $x^2 + 2 = 3$"
   ]
  },
  {
   "cell_type": "code",
   "execution_count": null,
   "metadata": {},
   "outputs": [],
   "source": [
    "from scipy.spatial import distance\n",
    "class DBSCAN:\n",
    "\n",
    "    def __init__(self, eps, minPts, metric=distance.euclidean):\n",
    "        self.eps = eps\n",
    "        self.minPts = minPts\n",
    "        self.metric = metric\n",
    "    \n",
    "    def fit(self, X):\n",
    "      \n",
    "        clusters = [0] * X.shape[0]\n",
    "        \n",
    "        self.run_DBSCAN(X, clusters, self.eps, self.minPts, self.metric)\n",
    "        \n",
    "        return clusters\n",
    "    \n",
    "    def run_DBSCAN(self, X, clusters, eps, minPts, metric=distance.euclidean):\n",
    "        \n",
    "        currentPoint = 0\n",
    "        \n",
    "        for i in range(0, X.shape[0]):\n",
    "            if clusters[i] is not 0:\n",
    "                continue\n",
    "        \n",
    "            neighbors = self.neighborsGen(X, i, eps, metric)\n",
    "\n",
    "            if len(neighbors) < minPts:\n",
    "                clusters[i] = -1\n",
    "\n",
    "            else:\n",
    "                currentPoint += 1\n",
    "                self.expand(X, clusters, i, neighbors, currentPoint, eps, minPts, metric)\n",
    "        \n",
    "        return clusters\n",
    "\n",
    "    def neighborsGen(self, X, point, eps, metric):\n",
    "        \"\"\"\n",
    "        Generates neighborhood graph for a given point\n",
    "        \"\"\"\n",
    "        \n",
    "        neighbors = []\n",
    "        \n",
    "        for i in range(X.shape[0]):\n",
    "            if metric(X[point], X[i]) < eps:\n",
    "                neighbors.append(i)\n",
    "        \n",
    "        return neighbors\n",
    "\n",
    "    def expand(self, X, clusters, point, neighbors, currentPoint, eps, minPts, metric):\n",
    "        \"\"\"\n",
    "        Expands cluster from a given point until neighborhood boundaries are reached\n",
    "        \"\"\"\n",
    "        clusters[point] = currentPoint\n",
    "        \n",
    "        i = 0\n",
    "        while i < len(neighbors):\n",
    "            \n",
    "            nextPoint = neighbors[i]\n",
    "            \n",
    "            if clusters[nextPoint] == -1:\n",
    "                clusters[nextPoint] = currentPoint\n",
    "            \n",
    "            elif clusters[nextPoint] == 0:\n",
    "                clusters[nextPoint] = currentPoint\n",
    "                \n",
    "                nextNeighbors = self.neighborsGen(X, nextPoint, eps, metric)\n",
    "                \n",
    "                if len(nextNeighbors) >= minPts:\n",
    "                    neighbors = neighbors + nextNeighbors\n",
    "            \n",
    "            i += 1"
   ]
  },
  {
   "cell_type": "markdown",
   "metadata": {},
   "source": [
    "### **DENCLUE**"
   ]
  },
  {
   "attachments": {},
   "cell_type": "markdown",
   "metadata": {},
   "source": [
    "Describe tself.bandwidthe algoritself.bandwidthm ...\n"
   ]
  },
  {
   "cell_type": "code",
   "execution_count": null,
   "metadata": {},
   "outputs": [
    {
     "ename": "",
     "evalue": "",
     "output_type": "error",
     "traceback": [
      "\u001b[1;31mFailed to start the Kernel. \n",
      "\u001b[1;31mThe Jupyter notebook server failed to launch in time\n",
      "\u001b[1;31m/home/quangngcs/anaconda3/lib/python3.9/site-packages/traitlets/traitlets.py:2202: FutureWarning: Supporting extra quotes around strings is deprecated in traitlets 5.0. You can use '/home/quangngcs/Desktop/Github/Data-Mining' instead of '\"/home/quangngcs/Desktop/Github/Data-Mining\"' if you require traitlets >=5.\n",
      "\u001b[1;31m  warn(\n",
      "\u001b[1;31m\n",
      "\u001b[1;31m[W 2023-03-01 08:25:29.674 LabApp] 'notebook_dir' has moved from NotebookApp to ServerApp. This config will be passed to ServerApp. Be sure to update your config before our next release.\n",
      "\u001b[1;31m[W 2023-03-01 08:25:29.674 LabApp] 'config_file' was found in both NotebookApp and ServerApp. This is likely a recent change. This config will only be set in NotebookApp. Please check if you should also config these traits in ServerApp for your purpose.\n",
      "\u001b[1;31m[W 2023-03-01 08:25:29.674 LabApp] 'iopub_data_rate_limit' has moved from NotebookApp to ServerApp. This config will be passed to ServerApp. Be sure to update your config before our next release.\n",
      "\u001b[1;31m[W 2023-03-01 08:25:29.674 LabApp] 'iopub_data_rate_limit' has moved from NotebookApp to ServerApp. This config will be passed to ServerApp. Be sure to update your config before our next release.\n",
      "\u001b[1;31m[W 2023-03-01 08:25:29.674 LabApp] 'iopub_data_rate_limit' has moved from NotebookApp to ServerApp. This config will be passed to ServerApp. Be sure to update your config before our next release.\n",
      "\u001b[1;31m\n",
      "\u001b[1;31m[I 2023-03-01 08:25:29.680 LabApp] JupyterLab extension loaded from /home/quangngcs/anaconda3/lib/python3.9/site-packages/jupyterlab\n",
      "\u001b[1;31m[I 2023-03-01 08:25:29.680 LabApp] JupyterLab application directory is /home/quangngcs/anaconda3/share/jupyter/lab\n",
      "\u001b[1;31m\n",
      "\u001b[1;31m[I 08:25:29.683 NotebookApp] Serving notebooks from local directory: /home/quangngcs/Desktop/Github/Data-Mining\n",
      "\u001b[1;31m[I 08:25:29.683 NotebookApp] Jupyter Notebook 6.4.12 is running at:\n",
      "\u001b[1;31m[I 08:25:29.683 NotebookApp] http://localhost:8888/?token=aa2ccf4685d2f4babb2084c6cc3f14cd2675297a5559f4aa\n",
      "\u001b[1;31m[I 08:25:29.683 NotebookApp]  or http://127.0.0.1:8888/?token=aa2ccf4685d2f4babb2084c6cc3f14cd2675297a5559f4aa\n",
      "\u001b[1;31m\n",
      "\u001b[1;31m[I 08:25:29.683 NotebookApp] Use Control-C to stop this server and shut down all kernels (twice to skip confirmation).\n",
      "\u001b[1;31m[C 08:25:29.686 NotebookApp] \n",
      "\u001b[1;31m    \n",
      "\u001b[1;31m    To access the notebook, open this file in a browser:\n",
      "\u001b[1;31m        file:///home/quangngcs/.local/share/jupyter/runtime/nbserver-15611-open.html\n",
      "\u001b[1;31m    Or copy and paste one of these URLs:\n",
      "\u001b[1;31m        http://localhost:8888/?token=aa2ccf4685d2f4babb2084c6cc3f14cd2675297a5559f4aa\n",
      "\u001b[1;31m     or http://127.0.0.1:8888/?token=aa2ccf4685d2f4babb2084c6cc3f14cd2675297a5559f4aa. \n",
      "\u001b[1;31mView Jupyter <a href='command:jupyter.viewOutput'>log</a> for further details."
     ]
    }
   ],
   "source": [
    "class Denclue:\n",
    "    def __init__(self, data, sigma, epsilon):\n",
    "        self.data = data\n",
    "        self.sigma = sigma\n",
    "        self.epsilon = epsilon\n",
    "\n",
    "    def compute_density(self):\n",
    "        # compute the density of each point in the dataset\n",
    "        density = np.zeros(len(self.data))\n",
    "\n",
    "        for i in range(len(self.data)):\n",
    "            # compute the distance between the current point and all other points\n",
    "            dist = np.linalg.norm(self.data - self.data[i], axis=1)\n",
    "\n",
    "            # compute the density of the current point\n",
    "            density[i] = np.sum(np.exp(-dist**2 / (2 * self.sigma**2)))\n",
    "\n",
    "        return density\n",
    "\n",
    "    def compute_attraction(self):\n",
    "        # compute the attraction of each point in the dataset\n",
    "        attraction = np.zeros(len(self.data))\n",
    "\n",
    "        for i in range(len(self.data)):\n",
    "            # compute the distance between the current point and all other points\n",
    "            dist = np.linalg.norm(self.data - self.data[i], axis=1)\n",
    "\n",
    "            # compute the attraction of the current point\n",
    "            attraction[i] = np.sum(dist * np.exp(-dist**2 / (2 * self.sigma**2)))\n",
    "\n",
    "        return attraction\n",
    "\n",
    "    def compute_clusters(self):\n",
    "        # compute the density and attraction of each point\n",
    "        density = self.compute_density()\n",
    "        attraction = self.compute_attraction()\n",
    "\n",
    "        # initialize the clusters\n",
    "        clusters = np.zeros(len(self.data))\n",
    "\n",
    "        # iterate over all points\n",
    "        for i in range(len(self.data)):\n",
    "            # compute the current point's potential\n",
    "            potential = density[i] * attraction[i]\n",
    "\n",
    "            # check if the current point is a cluster center\n",
    "            if potential > self.epsilon:\n",
    "                # assign the current point to a new cluster\n",
    "                clusters[i] = np.max(clusters) + 1\n",
    "\n",
    "        return clusters\n",
    "\n",
    "    def fit(self):\n",
    "        clusters = self.compute_clusters()\n",
    "        return clusters"
   ]
  },
  {
   "cell_type": "code",
   "execution_count": null,
   "metadata": {},
   "outputs": [],
   "source": []
  },
  {
   "attachments": {},
   "cell_type": "markdown",
   "metadata": {},
   "source": [
    "\n",
    "### **Mean Shift**"
   ]
  },
  {
   "attachments": {},
   "cell_type": "markdown",
   "metadata": {},
   "source": [
    "Describe tself.bandwidthe algoritself.bandwidthm"
   ]
  },
  {
   "cell_type": "code",
   "execution_count": null,
   "metadata": {},
   "outputs": [],
   "source": [
    "\n",
    "class MeanShift:\n",
    "    def __init__(self, radius=None, radius_norm_step=100):\n",
    "        self.radius = radius\n",
    "        self.radius_norm_step = radius_norm_step\n",
    "\n",
    "    def fit(self, data):\n",
    "\n",
    "        if self.radius == None:\n",
    "            all_data_centroid = np.average(data, axis=0)\n",
    "            all_data_norm = np.linalg.norm(all_data_centroid)\n",
    "            self.radius = all_data_norm / self.radius_norm_step\n",
    "\n",
    "        weights = [1 for i in range(len(data))]\n",
    "\n",
    "        centroids = []\n",
    "\n",
    "        while True:\n",
    "            new_centroids = []\n",
    "\n",
    "            for i, point in enumerate(data):\n",
    "                in_bandwidth = []\n",
    "\n",
    "                weightsum = 0\n",
    "\n",
    "                for j, other_point in enumerate(data):\n",
    "                    if np.linalg.norm(point - other_point) < self.radius:\n",
    "                        in_bandwidth.append(other_point)\n",
    "                        weightsum += weights[j]\n",
    "\n",
    "                if weightsum != 0:\n",
    "                    new_centroid = np.average(in_bandwidth, axis=0, weights=weights[:len(in_bandwidth)])\n",
    "                    new_centroids.append(tuple(new_centroid))\n",
    "\n",
    "            uniques = sorted(list(set(new_centroids)))\n",
    "\n",
    "            to_pop = []\n",
    "\n",
    "            for i, centroid in enumerate(uniques):\n",
    "                for j, other_centroid in enumerate(uniques):\n",
    "                    if i != j and np.linalg.norm(np.array(centroid) - np.array(other_centroid)) <= self.radius:\n",
    "                        to_pop.append(j)\n",
    "                        break\n",
    "\n",
    "            for i in reversed(to_pop):\n",
    "                try:\n",
    "                    uniques.pop(i)\n",
    "                except:\n",
    "                    pass\n",
    "\n",
    "            prev_centroids = dict(centroids)\n",
    "\n",
    "            centroids = {}\n",
    "\n",
    "            for i, centroid in enumerate(uniques):\n",
    "                centroids[i] = centroid\n",
    "\n",
    "            optimized = True\n",
    "\n",
    "            for i in centroids:\n",
    "                if i in prev_centroids and centroids[i] != prev_centroids[i]:\n",
    "                    optimized = False\n",
    "\n",
    "            if optimized:\n",
    "                break\n",
    "\n",
    "        self.centroids = centroids\n",
    "\n",
    "        self.classifications = {}\n",
    "\n",
    "        for i in range(len(self.centroids)):\n",
    "            self.classifications[i] = []\n",
    "\n",
    "        for featureset in data:\n",
    "            distances = [np.linalg.norm(featureset - self.centroids[centroid]) for centroid in self.centroids]\n",
    "            classification = distances.index(min(distances))\n",
    "            self.classifications[classification].append(featureset)\n",
    "\n",
    "    def predict(self, data):\n",
    "        distances = [np.linalg.norm(data - self.centroids[centroid]) for centroid in self.centroids]\n",
    "        classification = distances.index(min(distances))\n",
    "        return classification\n",
    "        pass"
   ]
  },
  {
   "cell_type": "markdown",
   "metadata": {},
   "source": [
    "## **Scikit-learn**"
   ]
  },
  {
   "cell_type": "markdown",
   "metadata": {},
   "source": [
    "## **DBSCAN**"
   ]
  },
  {
   "cell_type": "code",
   "execution_count": 182,
   "metadata": {},
   "outputs": [],
   "source": [
    "from sklearn.cluster import DBSCAN\n",
    "def run_dbscan_sklearn(input, eps, min_samples):\n",
    "    \n",
    "    dbscan_model = DBSCAN(eps=eps, min_samples=min_samples).fit(input)\n",
    "    predicted_labels = dbscan_model.labels_\n",
    "    \n",
    "    return predicted_labels"
   ]
  },
  {
   "cell_type": "code",
   "execution_count": 183,
   "metadata": {
    "tags": []
   },
   "outputs": [],
   "source": [
    "eps = 0.3\n",
    "min_samples = 10\n",
    "dbscan_result = run_dbscan_sklearn(x_train, eps = eps, min_samples = min_samples)"
   ]
  },
  {
   "cell_type": "code",
   "execution_count": 184,
   "metadata": {
    "tags": []
   },
   "outputs": [
    {
     "data": {
      "text/plain": [
       "array([-1, -1,  0, -1,  1, -1, -1, -1, -1, -1,  1, -1, -1,  1, -1, -1, -1,\n",
       "       -1,  1,  2, -1, -1, -1, -1, -1, -1, -1,  0,  2,  0, -1, -1,  1, -1,\n",
       "        0,  1, -1, -1, -1,  1, -1, -1, -1,  1, -1,  1, -1, -1,  0, -1,  1,\n",
       "       -1, -1,  0, -1, -1, -1, -1, -1, -1, -1, -1, -1,  1, -1, -1, -1, -1,\n",
       "        2,  2, -1, -1,  0,  2, -1,  1, -1, -1, -1,  1, -1,  1,  0,  2, -1,\n",
       "       -1,  0,  0, -1,  1,  2, -1,  1, -1, -1, -1,  0, -1,  1, -1,  1,  0,\n",
       "        2, -1, -1, -1, -1, -1,  0, -1, -1,  2, -1, -1, -1, -1, -1,  0, -1,\n",
       "        0, -1, -1, -1, -1, -1, -1, -1,  2, -1, -1,  1, -1, -1, -1, -1, -1,\n",
       "       -1, -1, -1, -1, -1,  0, -1, -1,  2, -1, -1,  1, -1,  0,  0, -1, -1,\n",
       "       -1, -1, -1,  1, -1,  0, -1, -1,  1, -1,  1, -1, -1,  0, -1,  1,  1,\n",
       "       -1, -1, -1, -1, -1, -1,  1, -1, -1, -1, -1,  0,  0,  1, -1, -1, -1,\n",
       "       -1,  0,  0, -1, -1,  1,  0,  1, -1, -1, -1,  0, -1])"
      ]
     },
     "execution_count": 184,
     "metadata": {},
     "output_type": "execute_result"
    }
   ],
   "source": [
    "dbscan_result"
   ]
  },
  {
   "cell_type": "code",
   "execution_count": 185,
   "metadata": {
    "tags": []
   },
   "outputs": [
    {
     "name": "stdout",
     "output_type": "stream",
     "text": [
      "Number of clusters: 3\n",
      "Number of noisy points: 134\n"
     ]
    }
   ],
   "source": [
    "n_clusters = len(set(dbscan_result)) - (1 if -1 in dbscan_result else 0)\n",
    "n_noisy_points = dbscan_result.tolist().count(-1)\n",
    "\n",
    "print(\"Number of clusters: {}\".format(n_clusters))\n",
    "print(\"Number of noisy points: {}\".format(n_noisy_points))"
   ]
  },
  {
   "cell_type": "code",
   "execution_count": 186,
   "metadata": {
    "tags": []
   },
   "outputs": [
    {
     "data": {
      "image/png": "[encoded data removed]",
      "text/plain": [
       "<Figure size 1152x576 with 2 Axes>"
      ]
     },
     "metadata": {
      "needs_background": "light"
     },
     "output_type": "display_data"
    }
   ],
   "source": [
    "visualize([x, standard_labels], [x, dbscan_result])"
   ]
  },
  {
   "cell_type": "markdown",
   "metadata": {},
   "source": [
    "## **OPTICS**"
   ]
  },
  {
   "cell_type": "code",
   "execution_count": null,
   "metadata": {
    "tags": []
   },
   "outputs": [],
   "source": [
    "from sklearn.cluster import OPTICS\n",
    "def run_optics_sklearn(input, min_samples = min_samples, eps = eps, cluster_metself.bandwidthod = \"dbscan\"):\n",
    "    optics_result = OPTICS(min_samples = min_samples, eps = eps, cluster_metself.bandwidthod = cluster_metself.bandwidthod).fit(input)\n",
    "    labels = optics_result.labels_\n",
    "    \n",
    "    return optics_result, labels"
   ]
  },
  {
   "cell_type": "code",
   "execution_count": 180,
   "metadata": {
    "tags": []
   },
   "outputs": [],
   "source": [
    "optics_dbscan_result, optic_dbscan_labels = run_optics_sklearn(x)\n",
    "n_cluster = len(set(optic_dbscan_labels)) - (1 if -1 in optic_dbscan_labels else 0)\n",
    "n_noisy_points = optic_dbscan_labels.tolist().count(-1)"
   ]
  },
  {
   "cell_type": "code",
   "execution_count": 181,
   "metadata": {
    "tags": []
   },
   "outputs": [
    {
     "name": "stdout",
     "output_type": "stream",
     "text": [
      "Number of clusters: 4\n",
      "Number of noisy points: 134\n"
     ]
    }
   ],
   "source": [
    "print(\"Number of clusters: {}\".format(n_cluster))\n",
    "print(\"Number of noisy points: {}\".format(n_noisy_points))"
   ]
  },
  {
   "cell_type": "code",
   "execution_count": null,
   "metadata": {},
   "outputs": [],
   "source": [
    "visualize([x, standard_labels], [x, optic_dbscan_labels])"
   ]
  },
  {
   "cell_type": "markdown",
   "metadata": {},
   "source": [
    "## **DENCLUE**"
   ]
  },
  {
   "cell_type": "code",
   "execution_count": null,
   "metadata": {},
   "outputs": [],
   "source": []
  },
  {
   "attachments": {},
   "cell_type": "markdown",
   "metadata": {},
   "source": [
    "## **Mean-sself.bandwidthift**"
   ]
  },
  {
   "cell_type": "code",
   "execution_count": null,
   "metadata": {
    "tags": []
   },
   "outputs": [],
   "source": [
    "bandwidtself.bandwidth = 0.9"
   ]
  },
  {
   "cell_type": "code",
   "execution_count": null,
   "metadata": {
    "tags": []
   },
   "outputs": [],
   "source": [
    "\"\"\"Define model witself.bandwidth tself.bandwidthe bandwidtself.bandwidth given to get tself.bandwidthe predicted labels\"\"\"\n",
    "from sklearn.cluster import MeanSself.bandwidthift\n",
    "def run_meansself.bandwidthift_sklearn(input, bandwitself.bandwidth):\n",
    "    \n",
    "    meansself.bandwidthift_model = MeanSself.bandwidthift(bandwidtself.bandwidth = bandwidtself.bandwidth).fit(input)\n",
    "    labels = meansself.bandwidthift_model.labels_\n",
    "    return meansself.bandwidthift_model, labels"
   ]
  },
  {
   "cell_type": "code",
   "execution_count": null,
   "metadata": {
    "tags": []
   },
   "outputs": [],
   "source": [
    "meansself.bandwidthift_model, meansself.bandwidthift_labels = run_meansself.bandwidthift_sklearn(x, bandwitself.bandwidth)"
   ]
  },
  {
   "cell_type": "code",
   "execution_count": null,
   "metadata": {
    "tags": []
   },
   "outputs": [],
   "source": [
    "\"\"\"Calculate tself.bandwidthe number of clusters and get tself.bandwidthe clusters centers coordinates\"\"\"\n",
    "n_clusters = len(set(labels))\n",
    "clusters_coors = meansself.bandwidthift_model.cluster_centers_\n",
    "\n",
    "print(\"Number of clusters: {}\".format(n_clusters))\n",
    "for idx, coor in enumerate(clusters_coors):\n",
    "    print(\"Coordinate of cluster {} = {}\".format(idx, coor))"
   ]
  },
  {
   "cell_type": "code",
   "execution_count": null,
   "metadata": {
    "tags": []
   },
   "outputs": [],
   "source": [
    "visualize([x, standard_labels], [x, meansself.bandwidthift_labels])"
   ]
  },
  {
   "cell_type": "code",
   "execution_count": null,
   "metadata": {},
   "outputs": [],
   "source": []
  }
 ],
 "metadata": {
  "kernelspec": {
   "display_name": "Python 3",
   "language": "python",
   "name": "python3"
  },
  "language_info": {
   "codemirror_mode": {
    "name": "ipython",
    "version": 3
   },
   "file_extension": ".py",
   "mimetype": "text/x-python",
   "name": "python",
   "nbconvert_exporter": "python",
   "pygments_lexer": "ipython3",
   "version": "3.10.6"
  },
  "vscode": {
   "interpreter": {
    "hash": "916dbcbb3f70747c44a77c7bcd40155683ae19c65e1c03b4aa3499c5328201f1"
   }
  }
 },
 "nbformat": 4,
 "nbformat_minor": 4
}
